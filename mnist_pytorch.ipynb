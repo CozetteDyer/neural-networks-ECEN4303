{
  "nbformat": 4,
  "nbformat_minor": 0,
  "metadata": {
    "colab": {
      "name": "mnist_pytorch.ipynb",
      "provenance": [],
      "collapsed_sections": [],
      "include_colab_link": true
    },
    "kernelspec": {
      "name": "python3",
      "display_name": "Python 3"
    },
    "language_info": {
      "name": "python"
    },
    "widgets": {
      "application/vnd.jupyter.widget-state+json": {
        "03a4d8c9a7d24de29214eba137516927": {
          "model_module": "@jupyter-widgets/controls",
          "model_name": "HBoxModel",
          "model_module_version": "1.5.0",
          "state": {
            "_view_name": "HBoxView",
            "_dom_classes": [],
            "_model_name": "HBoxModel",
            "_view_module": "@jupyter-widgets/controls",
            "_model_module_version": "1.5.0",
            "_view_count": null,
            "_view_module_version": "1.5.0",
            "box_style": "",
            "layout": "IPY_MODEL_dd3fcbb63e55472295478e0ae49cb033",
            "_model_module": "@jupyter-widgets/controls",
            "children": [
              "IPY_MODEL_2a38ac3ce0284c979c3d4ddd9a50fc54",
              "IPY_MODEL_c638e3f8087242b79339af820ad6e551"
            ]
          }
        },
        "dd3fcbb63e55472295478e0ae49cb033": {
          "model_module": "@jupyter-widgets/base",
          "model_name": "LayoutModel",
          "model_module_version": "1.2.0",
          "state": {
            "_view_name": "LayoutView",
            "grid_template_rows": null,
            "right": null,
            "justify_content": null,
            "_view_module": "@jupyter-widgets/base",
            "overflow": null,
            "_model_module_version": "1.2.0",
            "_view_count": null,
            "flex_flow": null,
            "width": null,
            "min_width": null,
            "border": null,
            "align_items": null,
            "bottom": null,
            "_model_module": "@jupyter-widgets/base",
            "top": null,
            "grid_column": null,
            "overflow_y": null,
            "overflow_x": null,
            "grid_auto_flow": null,
            "grid_area": null,
            "grid_template_columns": null,
            "flex": null,
            "_model_name": "LayoutModel",
            "justify_items": null,
            "grid_row": null,
            "max_height": null,
            "align_content": null,
            "visibility": null,
            "align_self": null,
            "height": null,
            "min_height": null,
            "padding": null,
            "grid_auto_rows": null,
            "grid_gap": null,
            "max_width": null,
            "order": null,
            "_view_module_version": "1.2.0",
            "grid_template_areas": null,
            "object_position": null,
            "object_fit": null,
            "grid_auto_columns": null,
            "margin": null,
            "display": null,
            "left": null
          }
        },
        "2a38ac3ce0284c979c3d4ddd9a50fc54": {
          "model_module": "@jupyter-widgets/controls",
          "model_name": "FloatProgressModel",
          "model_module_version": "1.5.0",
          "state": {
            "_view_name": "ProgressView",
            "style": "IPY_MODEL_0d04b3be6f0a43c9a6750713c93a97dc",
            "_dom_classes": [],
            "description": "",
            "_model_name": "FloatProgressModel",
            "bar_style": "success",
            "max": 9912422,
            "_view_module": "@jupyter-widgets/controls",
            "_model_module_version": "1.5.0",
            "value": 9912422,
            "_view_count": null,
            "_view_module_version": "1.5.0",
            "orientation": "horizontal",
            "min": 0,
            "description_tooltip": null,
            "_model_module": "@jupyter-widgets/controls",
            "layout": "IPY_MODEL_8b3374561a3745d2b875425b996b982e"
          }
        },
        "c638e3f8087242b79339af820ad6e551": {
          "model_module": "@jupyter-widgets/controls",
          "model_name": "HTMLModel",
          "model_module_version": "1.5.0",
          "state": {
            "_view_name": "HTMLView",
            "style": "IPY_MODEL_edb2f8511411438abe575419acb83ddc",
            "_dom_classes": [],
            "description": "",
            "_model_name": "HTMLModel",
            "placeholder": "​",
            "_view_module": "@jupyter-widgets/controls",
            "_model_module_version": "1.5.0",
            "value": " 9913344/? [00:02&lt;00:00, 4674949.26it/s]",
            "_view_count": null,
            "_view_module_version": "1.5.0",
            "description_tooltip": null,
            "_model_module": "@jupyter-widgets/controls",
            "layout": "IPY_MODEL_cac34aeb158643d1827d6e9278eac0d3"
          }
        },
        "0d04b3be6f0a43c9a6750713c93a97dc": {
          "model_module": "@jupyter-widgets/controls",
          "model_name": "ProgressStyleModel",
          "model_module_version": "1.5.0",
          "state": {
            "_view_name": "StyleView",
            "_model_name": "ProgressStyleModel",
            "description_width": "initial",
            "_view_module": "@jupyter-widgets/base",
            "_model_module_version": "1.5.0",
            "_view_count": null,
            "_view_module_version": "1.2.0",
            "bar_color": null,
            "_model_module": "@jupyter-widgets/controls"
          }
        },
        "8b3374561a3745d2b875425b996b982e": {
          "model_module": "@jupyter-widgets/base",
          "model_name": "LayoutModel",
          "model_module_version": "1.2.0",
          "state": {
            "_view_name": "LayoutView",
            "grid_template_rows": null,
            "right": null,
            "justify_content": null,
            "_view_module": "@jupyter-widgets/base",
            "overflow": null,
            "_model_module_version": "1.2.0",
            "_view_count": null,
            "flex_flow": null,
            "width": null,
            "min_width": null,
            "border": null,
            "align_items": null,
            "bottom": null,
            "_model_module": "@jupyter-widgets/base",
            "top": null,
            "grid_column": null,
            "overflow_y": null,
            "overflow_x": null,
            "grid_auto_flow": null,
            "grid_area": null,
            "grid_template_columns": null,
            "flex": null,
            "_model_name": "LayoutModel",
            "justify_items": null,
            "grid_row": null,
            "max_height": null,
            "align_content": null,
            "visibility": null,
            "align_self": null,
            "height": null,
            "min_height": null,
            "padding": null,
            "grid_auto_rows": null,
            "grid_gap": null,
            "max_width": null,
            "order": null,
            "_view_module_version": "1.2.0",
            "grid_template_areas": null,
            "object_position": null,
            "object_fit": null,
            "grid_auto_columns": null,
            "margin": null,
            "display": null,
            "left": null
          }
        },
        "edb2f8511411438abe575419acb83ddc": {
          "model_module": "@jupyter-widgets/controls",
          "model_name": "DescriptionStyleModel",
          "model_module_version": "1.5.0",
          "state": {
            "_view_name": "StyleView",
            "_model_name": "DescriptionStyleModel",
            "description_width": "",
            "_view_module": "@jupyter-widgets/base",
            "_model_module_version": "1.5.0",
            "_view_count": null,
            "_view_module_version": "1.2.0",
            "_model_module": "@jupyter-widgets/controls"
          }
        },
        "cac34aeb158643d1827d6e9278eac0d3": {
          "model_module": "@jupyter-widgets/base",
          "model_name": "LayoutModel",
          "model_module_version": "1.2.0",
          "state": {
            "_view_name": "LayoutView",
            "grid_template_rows": null,
            "right": null,
            "justify_content": null,
            "_view_module": "@jupyter-widgets/base",
            "overflow": null,
            "_model_module_version": "1.2.0",
            "_view_count": null,
            "flex_flow": null,
            "width": null,
            "min_width": null,
            "border": null,
            "align_items": null,
            "bottom": null,
            "_model_module": "@jupyter-widgets/base",
            "top": null,
            "grid_column": null,
            "overflow_y": null,
            "overflow_x": null,
            "grid_auto_flow": null,
            "grid_area": null,
            "grid_template_columns": null,
            "flex": null,
            "_model_name": "LayoutModel",
            "justify_items": null,
            "grid_row": null,
            "max_height": null,
            "align_content": null,
            "visibility": null,
            "align_self": null,
            "height": null,
            "min_height": null,
            "padding": null,
            "grid_auto_rows": null,
            "grid_gap": null,
            "max_width": null,
            "order": null,
            "_view_module_version": "1.2.0",
            "grid_template_areas": null,
            "object_position": null,
            "object_fit": null,
            "grid_auto_columns": null,
            "margin": null,
            "display": null,
            "left": null
          }
        },
        "05ca5b8cafe64e47b722e2af657227b4": {
          "model_module": "@jupyter-widgets/controls",
          "model_name": "HBoxModel",
          "model_module_version": "1.5.0",
          "state": {
            "_view_name": "HBoxView",
            "_dom_classes": [],
            "_model_name": "HBoxModel",
            "_view_module": "@jupyter-widgets/controls",
            "_model_module_version": "1.5.0",
            "_view_count": null,
            "_view_module_version": "1.5.0",
            "box_style": "",
            "layout": "IPY_MODEL_5aa5bfa8037147479ced2de987dae429",
            "_model_module": "@jupyter-widgets/controls",
            "children": [
              "IPY_MODEL_cb6df4d326a647deb41132f904e7ab00",
              "IPY_MODEL_985aca62a3024479b5c5724442b65b99"
            ]
          }
        },
        "5aa5bfa8037147479ced2de987dae429": {
          "model_module": "@jupyter-widgets/base",
          "model_name": "LayoutModel",
          "model_module_version": "1.2.0",
          "state": {
            "_view_name": "LayoutView",
            "grid_template_rows": null,
            "right": null,
            "justify_content": null,
            "_view_module": "@jupyter-widgets/base",
            "overflow": null,
            "_model_module_version": "1.2.0",
            "_view_count": null,
            "flex_flow": null,
            "width": null,
            "min_width": null,
            "border": null,
            "align_items": null,
            "bottom": null,
            "_model_module": "@jupyter-widgets/base",
            "top": null,
            "grid_column": null,
            "overflow_y": null,
            "overflow_x": null,
            "grid_auto_flow": null,
            "grid_area": null,
            "grid_template_columns": null,
            "flex": null,
            "_model_name": "LayoutModel",
            "justify_items": null,
            "grid_row": null,
            "max_height": null,
            "align_content": null,
            "visibility": null,
            "align_self": null,
            "height": null,
            "min_height": null,
            "padding": null,
            "grid_auto_rows": null,
            "grid_gap": null,
            "max_width": null,
            "order": null,
            "_view_module_version": "1.2.0",
            "grid_template_areas": null,
            "object_position": null,
            "object_fit": null,
            "grid_auto_columns": null,
            "margin": null,
            "display": null,
            "left": null
          }
        },
        "cb6df4d326a647deb41132f904e7ab00": {
          "model_module": "@jupyter-widgets/controls",
          "model_name": "FloatProgressModel",
          "model_module_version": "1.5.0",
          "state": {
            "_view_name": "ProgressView",
            "style": "IPY_MODEL_d8fa1e811c0f4ac38ceb4dfa9458029f",
            "_dom_classes": [],
            "description": "",
            "_model_name": "FloatProgressModel",
            "bar_style": "success",
            "max": 28881,
            "_view_module": "@jupyter-widgets/controls",
            "_model_module_version": "1.5.0",
            "value": 28881,
            "_view_count": null,
            "_view_module_version": "1.5.0",
            "orientation": "horizontal",
            "min": 0,
            "description_tooltip": null,
            "_model_module": "@jupyter-widgets/controls",
            "layout": "IPY_MODEL_bbf1c32d1ff64d988df20ddb097102b3"
          }
        },
        "985aca62a3024479b5c5724442b65b99": {
          "model_module": "@jupyter-widgets/controls",
          "model_name": "HTMLModel",
          "model_module_version": "1.5.0",
          "state": {
            "_view_name": "HTMLView",
            "style": "IPY_MODEL_1d9a709a2008484bac388d8b6fb74a52",
            "_dom_classes": [],
            "description": "",
            "_model_name": "HTMLModel",
            "placeholder": "​",
            "_view_module": "@jupyter-widgets/controls",
            "_model_module_version": "1.5.0",
            "value": " 29696/? [00:00&lt;00:00, 72544.71it/s]",
            "_view_count": null,
            "_view_module_version": "1.5.0",
            "description_tooltip": null,
            "_model_module": "@jupyter-widgets/controls",
            "layout": "IPY_MODEL_0b8911a0ca0e44a18bc0313d2f489f38"
          }
        },
        "d8fa1e811c0f4ac38ceb4dfa9458029f": {
          "model_module": "@jupyter-widgets/controls",
          "model_name": "ProgressStyleModel",
          "model_module_version": "1.5.0",
          "state": {
            "_view_name": "StyleView",
            "_model_name": "ProgressStyleModel",
            "description_width": "initial",
            "_view_module": "@jupyter-widgets/base",
            "_model_module_version": "1.5.0",
            "_view_count": null,
            "_view_module_version": "1.2.0",
            "bar_color": null,
            "_model_module": "@jupyter-widgets/controls"
          }
        },
        "bbf1c32d1ff64d988df20ddb097102b3": {
          "model_module": "@jupyter-widgets/base",
          "model_name": "LayoutModel",
          "model_module_version": "1.2.0",
          "state": {
            "_view_name": "LayoutView",
            "grid_template_rows": null,
            "right": null,
            "justify_content": null,
            "_view_module": "@jupyter-widgets/base",
            "overflow": null,
            "_model_module_version": "1.2.0",
            "_view_count": null,
            "flex_flow": null,
            "width": null,
            "min_width": null,
            "border": null,
            "align_items": null,
            "bottom": null,
            "_model_module": "@jupyter-widgets/base",
            "top": null,
            "grid_column": null,
            "overflow_y": null,
            "overflow_x": null,
            "grid_auto_flow": null,
            "grid_area": null,
            "grid_template_columns": null,
            "flex": null,
            "_model_name": "LayoutModel",
            "justify_items": null,
            "grid_row": null,
            "max_height": null,
            "align_content": null,
            "visibility": null,
            "align_self": null,
            "height": null,
            "min_height": null,
            "padding": null,
            "grid_auto_rows": null,
            "grid_gap": null,
            "max_width": null,
            "order": null,
            "_view_module_version": "1.2.0",
            "grid_template_areas": null,
            "object_position": null,
            "object_fit": null,
            "grid_auto_columns": null,
            "margin": null,
            "display": null,
            "left": null
          }
        },
        "1d9a709a2008484bac388d8b6fb74a52": {
          "model_module": "@jupyter-widgets/controls",
          "model_name": "DescriptionStyleModel",
          "model_module_version": "1.5.0",
          "state": {
            "_view_name": "StyleView",
            "_model_name": "DescriptionStyleModel",
            "description_width": "",
            "_view_module": "@jupyter-widgets/base",
            "_model_module_version": "1.5.0",
            "_view_count": null,
            "_view_module_version": "1.2.0",
            "_model_module": "@jupyter-widgets/controls"
          }
        },
        "0b8911a0ca0e44a18bc0313d2f489f38": {
          "model_module": "@jupyter-widgets/base",
          "model_name": "LayoutModel",
          "model_module_version": "1.2.0",
          "state": {
            "_view_name": "LayoutView",
            "grid_template_rows": null,
            "right": null,
            "justify_content": null,
            "_view_module": "@jupyter-widgets/base",
            "overflow": null,
            "_model_module_version": "1.2.0",
            "_view_count": null,
            "flex_flow": null,
            "width": null,
            "min_width": null,
            "border": null,
            "align_items": null,
            "bottom": null,
            "_model_module": "@jupyter-widgets/base",
            "top": null,
            "grid_column": null,
            "overflow_y": null,
            "overflow_x": null,
            "grid_auto_flow": null,
            "grid_area": null,
            "grid_template_columns": null,
            "flex": null,
            "_model_name": "LayoutModel",
            "justify_items": null,
            "grid_row": null,
            "max_height": null,
            "align_content": null,
            "visibility": null,
            "align_self": null,
            "height": null,
            "min_height": null,
            "padding": null,
            "grid_auto_rows": null,
            "grid_gap": null,
            "max_width": null,
            "order": null,
            "_view_module_version": "1.2.0",
            "grid_template_areas": null,
            "object_position": null,
            "object_fit": null,
            "grid_auto_columns": null,
            "margin": null,
            "display": null,
            "left": null
          }
        },
        "3210485469a84ab798d0f4daef038aa4": {
          "model_module": "@jupyter-widgets/controls",
          "model_name": "HBoxModel",
          "model_module_version": "1.5.0",
          "state": {
            "_view_name": "HBoxView",
            "_dom_classes": [],
            "_model_name": "HBoxModel",
            "_view_module": "@jupyter-widgets/controls",
            "_model_module_version": "1.5.0",
            "_view_count": null,
            "_view_module_version": "1.5.0",
            "box_style": "",
            "layout": "IPY_MODEL_ee600506c0a44fe2b8b40c93cc4cefc2",
            "_model_module": "@jupyter-widgets/controls",
            "children": [
              "IPY_MODEL_4d36369802c9494eb37e631ef009c50a",
              "IPY_MODEL_ad20dfa32ddb43d2bf2186245f790e34"
            ]
          }
        },
        "ee600506c0a44fe2b8b40c93cc4cefc2": {
          "model_module": "@jupyter-widgets/base",
          "model_name": "LayoutModel",
          "model_module_version": "1.2.0",
          "state": {
            "_view_name": "LayoutView",
            "grid_template_rows": null,
            "right": null,
            "justify_content": null,
            "_view_module": "@jupyter-widgets/base",
            "overflow": null,
            "_model_module_version": "1.2.0",
            "_view_count": null,
            "flex_flow": null,
            "width": null,
            "min_width": null,
            "border": null,
            "align_items": null,
            "bottom": null,
            "_model_module": "@jupyter-widgets/base",
            "top": null,
            "grid_column": null,
            "overflow_y": null,
            "overflow_x": null,
            "grid_auto_flow": null,
            "grid_area": null,
            "grid_template_columns": null,
            "flex": null,
            "_model_name": "LayoutModel",
            "justify_items": null,
            "grid_row": null,
            "max_height": null,
            "align_content": null,
            "visibility": null,
            "align_self": null,
            "height": null,
            "min_height": null,
            "padding": null,
            "grid_auto_rows": null,
            "grid_gap": null,
            "max_width": null,
            "order": null,
            "_view_module_version": "1.2.0",
            "grid_template_areas": null,
            "object_position": null,
            "object_fit": null,
            "grid_auto_columns": null,
            "margin": null,
            "display": null,
            "left": null
          }
        },
        "4d36369802c9494eb37e631ef009c50a": {
          "model_module": "@jupyter-widgets/controls",
          "model_name": "FloatProgressModel",
          "model_module_version": "1.5.0",
          "state": {
            "_view_name": "ProgressView",
            "style": "IPY_MODEL_12d63de8a5eb4981a4c2b79d464a5d39",
            "_dom_classes": [],
            "description": "",
            "_model_name": "FloatProgressModel",
            "bar_style": "success",
            "max": 1648877,
            "_view_module": "@jupyter-widgets/controls",
            "_model_module_version": "1.5.0",
            "value": 1648877,
            "_view_count": null,
            "_view_module_version": "1.5.0",
            "orientation": "horizontal",
            "min": 0,
            "description_tooltip": null,
            "_model_module": "@jupyter-widgets/controls",
            "layout": "IPY_MODEL_25d290c244ff4e4c9f27d1b1ff05d4ea"
          }
        },
        "ad20dfa32ddb43d2bf2186245f790e34": {
          "model_module": "@jupyter-widgets/controls",
          "model_name": "HTMLModel",
          "model_module_version": "1.5.0",
          "state": {
            "_view_name": "HTMLView",
            "style": "IPY_MODEL_445dfde12e10486d93218987fec99cc7",
            "_dom_classes": [],
            "description": "",
            "_model_name": "HTMLModel",
            "placeholder": "​",
            "_view_module": "@jupyter-widgets/controls",
            "_model_module_version": "1.5.0",
            "value": " 1649664/? [00:00&lt;00:00, 2544685.15it/s]",
            "_view_count": null,
            "_view_module_version": "1.5.0",
            "description_tooltip": null,
            "_model_module": "@jupyter-widgets/controls",
            "layout": "IPY_MODEL_54d75383e73247d696d32fe8f8f19b7b"
          }
        },
        "12d63de8a5eb4981a4c2b79d464a5d39": {
          "model_module": "@jupyter-widgets/controls",
          "model_name": "ProgressStyleModel",
          "model_module_version": "1.5.0",
          "state": {
            "_view_name": "StyleView",
            "_model_name": "ProgressStyleModel",
            "description_width": "initial",
            "_view_module": "@jupyter-widgets/base",
            "_model_module_version": "1.5.0",
            "_view_count": null,
            "_view_module_version": "1.2.0",
            "bar_color": null,
            "_model_module": "@jupyter-widgets/controls"
          }
        },
        "25d290c244ff4e4c9f27d1b1ff05d4ea": {
          "model_module": "@jupyter-widgets/base",
          "model_name": "LayoutModel",
          "model_module_version": "1.2.0",
          "state": {
            "_view_name": "LayoutView",
            "grid_template_rows": null,
            "right": null,
            "justify_content": null,
            "_view_module": "@jupyter-widgets/base",
            "overflow": null,
            "_model_module_version": "1.2.0",
            "_view_count": null,
            "flex_flow": null,
            "width": null,
            "min_width": null,
            "border": null,
            "align_items": null,
            "bottom": null,
            "_model_module": "@jupyter-widgets/base",
            "top": null,
            "grid_column": null,
            "overflow_y": null,
            "overflow_x": null,
            "grid_auto_flow": null,
            "grid_area": null,
            "grid_template_columns": null,
            "flex": null,
            "_model_name": "LayoutModel",
            "justify_items": null,
            "grid_row": null,
            "max_height": null,
            "align_content": null,
            "visibility": null,
            "align_self": null,
            "height": null,
            "min_height": null,
            "padding": null,
            "grid_auto_rows": null,
            "grid_gap": null,
            "max_width": null,
            "order": null,
            "_view_module_version": "1.2.0",
            "grid_template_areas": null,
            "object_position": null,
            "object_fit": null,
            "grid_auto_columns": null,
            "margin": null,
            "display": null,
            "left": null
          }
        },
        "445dfde12e10486d93218987fec99cc7": {
          "model_module": "@jupyter-widgets/controls",
          "model_name": "DescriptionStyleModel",
          "model_module_version": "1.5.0",
          "state": {
            "_view_name": "StyleView",
            "_model_name": "DescriptionStyleModel",
            "description_width": "",
            "_view_module": "@jupyter-widgets/base",
            "_model_module_version": "1.5.0",
            "_view_count": null,
            "_view_module_version": "1.2.0",
            "_model_module": "@jupyter-widgets/controls"
          }
        },
        "54d75383e73247d696d32fe8f8f19b7b": {
          "model_module": "@jupyter-widgets/base",
          "model_name": "LayoutModel",
          "model_module_version": "1.2.0",
          "state": {
            "_view_name": "LayoutView",
            "grid_template_rows": null,
            "right": null,
            "justify_content": null,
            "_view_module": "@jupyter-widgets/base",
            "overflow": null,
            "_model_module_version": "1.2.0",
            "_view_count": null,
            "flex_flow": null,
            "width": null,
            "min_width": null,
            "border": null,
            "align_items": null,
            "bottom": null,
            "_model_module": "@jupyter-widgets/base",
            "top": null,
            "grid_column": null,
            "overflow_y": null,
            "overflow_x": null,
            "grid_auto_flow": null,
            "grid_area": null,
            "grid_template_columns": null,
            "flex": null,
            "_model_name": "LayoutModel",
            "justify_items": null,
            "grid_row": null,
            "max_height": null,
            "align_content": null,
            "visibility": null,
            "align_self": null,
            "height": null,
            "min_height": null,
            "padding": null,
            "grid_auto_rows": null,
            "grid_gap": null,
            "max_width": null,
            "order": null,
            "_view_module_version": "1.2.0",
            "grid_template_areas": null,
            "object_position": null,
            "object_fit": null,
            "grid_auto_columns": null,
            "margin": null,
            "display": null,
            "left": null
          }
        },
        "1b1404eec1434014a9cb4a42a6e314ce": {
          "model_module": "@jupyter-widgets/controls",
          "model_name": "HBoxModel",
          "model_module_version": "1.5.0",
          "state": {
            "_view_name": "HBoxView",
            "_dom_classes": [],
            "_model_name": "HBoxModel",
            "_view_module": "@jupyter-widgets/controls",
            "_model_module_version": "1.5.0",
            "_view_count": null,
            "_view_module_version": "1.5.0",
            "box_style": "",
            "layout": "IPY_MODEL_8bcd83c33931458baa0f624d16b25326",
            "_model_module": "@jupyter-widgets/controls",
            "children": [
              "IPY_MODEL_c882a893492144c282da1cfa8b466620",
              "IPY_MODEL_033ea3e45a904a92977bfa41ee5ecc03"
            ]
          }
        },
        "8bcd83c33931458baa0f624d16b25326": {
          "model_module": "@jupyter-widgets/base",
          "model_name": "LayoutModel",
          "model_module_version": "1.2.0",
          "state": {
            "_view_name": "LayoutView",
            "grid_template_rows": null,
            "right": null,
            "justify_content": null,
            "_view_module": "@jupyter-widgets/base",
            "overflow": null,
            "_model_module_version": "1.2.0",
            "_view_count": null,
            "flex_flow": null,
            "width": null,
            "min_width": null,
            "border": null,
            "align_items": null,
            "bottom": null,
            "_model_module": "@jupyter-widgets/base",
            "top": null,
            "grid_column": null,
            "overflow_y": null,
            "overflow_x": null,
            "grid_auto_flow": null,
            "grid_area": null,
            "grid_template_columns": null,
            "flex": null,
            "_model_name": "LayoutModel",
            "justify_items": null,
            "grid_row": null,
            "max_height": null,
            "align_content": null,
            "visibility": null,
            "align_self": null,
            "height": null,
            "min_height": null,
            "padding": null,
            "grid_auto_rows": null,
            "grid_gap": null,
            "max_width": null,
            "order": null,
            "_view_module_version": "1.2.0",
            "grid_template_areas": null,
            "object_position": null,
            "object_fit": null,
            "grid_auto_columns": null,
            "margin": null,
            "display": null,
            "left": null
          }
        },
        "c882a893492144c282da1cfa8b466620": {
          "model_module": "@jupyter-widgets/controls",
          "model_name": "FloatProgressModel",
          "model_module_version": "1.5.0",
          "state": {
            "_view_name": "ProgressView",
            "style": "IPY_MODEL_8497b369596f48da842a04cbb63b85fa",
            "_dom_classes": [],
            "description": "",
            "_model_name": "FloatProgressModel",
            "bar_style": "success",
            "max": 4542,
            "_view_module": "@jupyter-widgets/controls",
            "_model_module_version": "1.5.0",
            "value": 4542,
            "_view_count": null,
            "_view_module_version": "1.5.0",
            "orientation": "horizontal",
            "min": 0,
            "description_tooltip": null,
            "_model_module": "@jupyter-widgets/controls",
            "layout": "IPY_MODEL_ea830e7177f04f75994d4b5c31891d7b"
          }
        },
        "033ea3e45a904a92977bfa41ee5ecc03": {
          "model_module": "@jupyter-widgets/controls",
          "model_name": "HTMLModel",
          "model_module_version": "1.5.0",
          "state": {
            "_view_name": "HTMLView",
            "style": "IPY_MODEL_2035e33ba2274e97b1f7d66a03922a77",
            "_dom_classes": [],
            "description": "",
            "_model_name": "HTMLModel",
            "placeholder": "​",
            "_view_module": "@jupyter-widgets/controls",
            "_model_module_version": "1.5.0",
            "value": " 5120/? [00:00&lt;00:00, 29885.81it/s]",
            "_view_count": null,
            "_view_module_version": "1.5.0",
            "description_tooltip": null,
            "_model_module": "@jupyter-widgets/controls",
            "layout": "IPY_MODEL_e3a7e421e4d544d69d80fb06ef936436"
          }
        },
        "8497b369596f48da842a04cbb63b85fa": {
          "model_module": "@jupyter-widgets/controls",
          "model_name": "ProgressStyleModel",
          "model_module_version": "1.5.0",
          "state": {
            "_view_name": "StyleView",
            "_model_name": "ProgressStyleModel",
            "description_width": "initial",
            "_view_module": "@jupyter-widgets/base",
            "_model_module_version": "1.5.0",
            "_view_count": null,
            "_view_module_version": "1.2.0",
            "bar_color": null,
            "_model_module": "@jupyter-widgets/controls"
          }
        },
        "ea830e7177f04f75994d4b5c31891d7b": {
          "model_module": "@jupyter-widgets/base",
          "model_name": "LayoutModel",
          "model_module_version": "1.2.0",
          "state": {
            "_view_name": "LayoutView",
            "grid_template_rows": null,
            "right": null,
            "justify_content": null,
            "_view_module": "@jupyter-widgets/base",
            "overflow": null,
            "_model_module_version": "1.2.0",
            "_view_count": null,
            "flex_flow": null,
            "width": null,
            "min_width": null,
            "border": null,
            "align_items": null,
            "bottom": null,
            "_model_module": "@jupyter-widgets/base",
            "top": null,
            "grid_column": null,
            "overflow_y": null,
            "overflow_x": null,
            "grid_auto_flow": null,
            "grid_area": null,
            "grid_template_columns": null,
            "flex": null,
            "_model_name": "LayoutModel",
            "justify_items": null,
            "grid_row": null,
            "max_height": null,
            "align_content": null,
            "visibility": null,
            "align_self": null,
            "height": null,
            "min_height": null,
            "padding": null,
            "grid_auto_rows": null,
            "grid_gap": null,
            "max_width": null,
            "order": null,
            "_view_module_version": "1.2.0",
            "grid_template_areas": null,
            "object_position": null,
            "object_fit": null,
            "grid_auto_columns": null,
            "margin": null,
            "display": null,
            "left": null
          }
        },
        "2035e33ba2274e97b1f7d66a03922a77": {
          "model_module": "@jupyter-widgets/controls",
          "model_name": "DescriptionStyleModel",
          "model_module_version": "1.5.0",
          "state": {
            "_view_name": "StyleView",
            "_model_name": "DescriptionStyleModel",
            "description_width": "",
            "_view_module": "@jupyter-widgets/base",
            "_model_module_version": "1.5.0",
            "_view_count": null,
            "_view_module_version": "1.2.0",
            "_model_module": "@jupyter-widgets/controls"
          }
        },
        "e3a7e421e4d544d69d80fb06ef936436": {
          "model_module": "@jupyter-widgets/base",
          "model_name": "LayoutModel",
          "model_module_version": "1.2.0",
          "state": {
            "_view_name": "LayoutView",
            "grid_template_rows": null,
            "right": null,
            "justify_content": null,
            "_view_module": "@jupyter-widgets/base",
            "overflow": null,
            "_model_module_version": "1.2.0",
            "_view_count": null,
            "flex_flow": null,
            "width": null,
            "min_width": null,
            "border": null,
            "align_items": null,
            "bottom": null,
            "_model_module": "@jupyter-widgets/base",
            "top": null,
            "grid_column": null,
            "overflow_y": null,
            "overflow_x": null,
            "grid_auto_flow": null,
            "grid_area": null,
            "grid_template_columns": null,
            "flex": null,
            "_model_name": "LayoutModel",
            "justify_items": null,
            "grid_row": null,
            "max_height": null,
            "align_content": null,
            "visibility": null,
            "align_self": null,
            "height": null,
            "min_height": null,
            "padding": null,
            "grid_auto_rows": null,
            "grid_gap": null,
            "max_width": null,
            "order": null,
            "_view_module_version": "1.2.0",
            "grid_template_areas": null,
            "object_position": null,
            "object_fit": null,
            "grid_auto_columns": null,
            "margin": null,
            "display": null,
            "left": null
          }
        }
      }
    }
  },
  "cells": [
    {
      "cell_type": "markdown",
      "metadata": {
        "id": "view-in-github",
        "colab_type": "text"
      },
      "source": [
        "<a href=\"https://colab.research.google.com/github/lab4isc/ECEN4303_Project-Description-Fall-21-/blob/main/mnist_pytorch.ipynb\" target=\"_parent\"><img src=\"https://colab.research.google.com/assets/colab-badge.svg\" alt=\"Open In Colab\"/></a>"
      ]
    },
    {
      "cell_type": "markdown",
      "metadata": {
        "id": "5-8t4IoAEsdE"
      },
      "source": [
        "#MLP Neural Network"
      ]
    },
    {
      "cell_type": "markdown",
      "metadata": {
        "id": "oXXe3cpPEwKj"
      },
      "source": [
        "##Background"
      ]
    },
    {
      "cell_type": "markdown",
      "metadata": {
        "id": "Xxj4AA5JQ0j7"
      },
      "source": [
        "###Multi-Layer Perceptrons\n",
        "What is a MLP? A multi-layer perceptron is a feedforward artificial neural network that generates a set of outputs from a set of inputs. Neural Networks are generally created by creating layers of nodes called neurons that will perform some function given data. MLPs consist of at least three layers of nodes: an input layer, an output layer, and one or more hidden layers. \n",
        "\n",
        "In this tutorial, we will introduce a use case of MLP to recognize the handwritten digits (i.e., 0 - 9). The dataset uses the MNIST. For this case, the inputs of MLP will be the handwritten digit images (e.g., an image of digit 1) and the ten outputs indicate the probabilities of ten digits of the input image. The largest output indicates the digit value of the input image."
      ]
    },
    {
      "cell_type": "markdown",
      "metadata": {
        "id": "zrKbj2xRU_6n"
      },
      "source": [
        "![TOPOLOGY-OF-A-MULTILAYER-PERCEPTRON-NEURAL-NETWORK.png](data:image/png;base64,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)"
      ]
    },
    {
      "cell_type": "markdown",
      "metadata": {
        "id": "qJ40ao-GVFss"
      },
      "source": [
        "Each neuron is ran through a training process in order for them to \"learn\" appropriate functions for correct guesses. Learning occurs in the perceptron by changing connection weights after all data provided in a training batch is processed, based on the amount of error in the output compared to the expected result. This process is called supervised learning and is carried out through backpropogation of the neural network."
      ]
    },
    {
      "cell_type": "markdown",
      "metadata": {
        "id": "LhJ-JwlCYlri"
      },
      "source": [
        "![162585338281562420.png](data:image/png;base64,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)"
      ]
    },
    {
      "cell_type": "markdown",
      "metadata": {
        "id": "UBj_IMd8ZJq7"
      },
      "source": [
        "Above is the simplified function at any given neuron, an input (x) is received it is multiplied by some weight (w) that is held in the neuron. This is done on all incoming inputs, where they will be summed up, have a bias (b) added to them, then finally at the output of the neuron a non-linear activation function (f) will be used such as the [relu](https://en.wikipedia.org/wiki/Rectifier_(neural_networks)) function and or the [softmax](https://en.wikipedia.org/wiki/Softmax_function) function."
      ]
    },
    {
      "cell_type": "markdown",
      "metadata": {
        "id": "AzjP_flGyD0R"
      },
      "source": [
        "For the purposes of this tutorial pytorch will be used"
      ]
    },
    {
      "cell_type": "code",
      "metadata": {
        "id": "OJ9PE27QN-34"
      },
      "source": [
        "# import libraries\n",
        "import torch\n",
        "import numpy as np"
      ],
      "execution_count": null,
      "outputs": []
    },
    {
      "cell_type": "markdown",
      "metadata": {
        "id": "MjnHjARPEdzt"
      },
      "source": [
        "##Load and Visulize the Data\n"
      ]
    },
    {
      "cell_type": "markdown",
      "metadata": {
        "id": "RnWRv3IFzAK8"
      },
      "source": [
        "###Load\n",
        "Code for processing data samples can get messy and hard to maintain; we ideally want our dataset code to be decoupled from our model training code for better readability and modularity. PyTorch provides two data primitives: \n",
        "```\n",
        "torch.utils.data.DataLoader\n",
        "torch.utils.data.Dataset\n",
        "```\n",
        "that allow you to use pre-loaded datasets as well as your own data. Dataset stores the samples and their corresponding labels, and DataLoader wraps an iterable around the Dataset to enable easy access to the samples.\n",
        "\n",
        "For this example the [MNIST](https://en.wikipedia.org/wiki/MNIST_database) dataset set will be used. In the cell below the training dataset and testing datasets are downloaded and stored into train_data and test_data. Train_data will contain 60,000 training images and labels while test_data will contain 10,000.\n",
        "\n",
        "From there they will be loaded into their respective data loaders split into the batch size specified by the user."
      ]
    },
    {
      "cell_type": "code",
      "metadata": {
        "id": "XvhBvEZcN9xX",
        "colab": {
          "base_uri": "https://localhost:8080/",
          "height": 760,
          "referenced_widgets": [
            "03a4d8c9a7d24de29214eba137516927",
            "dd3fcbb63e55472295478e0ae49cb033",
            "2a38ac3ce0284c979c3d4ddd9a50fc54",
            "c638e3f8087242b79339af820ad6e551",
            "0d04b3be6f0a43c9a6750713c93a97dc",
            "8b3374561a3745d2b875425b996b982e",
            "edb2f8511411438abe575419acb83ddc",
            "cac34aeb158643d1827d6e9278eac0d3",
            "05ca5b8cafe64e47b722e2af657227b4",
            "5aa5bfa8037147479ced2de987dae429",
            "cb6df4d326a647deb41132f904e7ab00",
            "985aca62a3024479b5c5724442b65b99",
            "d8fa1e811c0f4ac38ceb4dfa9458029f",
            "bbf1c32d1ff64d988df20ddb097102b3",
            "1d9a709a2008484bac388d8b6fb74a52",
            "0b8911a0ca0e44a18bc0313d2f489f38",
            "3210485469a84ab798d0f4daef038aa4",
            "ee600506c0a44fe2b8b40c93cc4cefc2",
            "4d36369802c9494eb37e631ef009c50a",
            "ad20dfa32ddb43d2bf2186245f790e34",
            "12d63de8a5eb4981a4c2b79d464a5d39",
            "25d290c244ff4e4c9f27d1b1ff05d4ea",
            "445dfde12e10486d93218987fec99cc7",
            "54d75383e73247d696d32fe8f8f19b7b",
            "1b1404eec1434014a9cb4a42a6e314ce",
            "8bcd83c33931458baa0f624d16b25326",
            "c882a893492144c282da1cfa8b466620",
            "033ea3e45a904a92977bfa41ee5ecc03",
            "8497b369596f48da842a04cbb63b85fa",
            "ea830e7177f04f75994d4b5c31891d7b",
            "2035e33ba2274e97b1f7d66a03922a77",
            "e3a7e421e4d544d69d80fb06ef936436"
          ]
        },
        "outputId": "93394270-ab66-4ad0-bec0-863ef5bc4d5b"
      },
      "source": [
        "from torchvision import datasets\n",
        "import torchvision.transforms as transforms\n",
        "\n",
        "# number of subprocesses to use for data loading\n",
        "num_workers = 0\n",
        "# how many samples per batch to load\n",
        "batch_size = 20\n",
        "\n",
        "# convert data to torch.FloatTensor\n",
        "transform = transforms.ToTensor()\n",
        "\n",
        "# choose the training and test datasets\n",
        "train_data = datasets.MNIST(root='data', train=True,\n",
        "                                   download=True, transform=transform)\n",
        "test_data = datasets.MNIST(root='data', train=False,\n",
        "                                  download=True, transform=transform)\n",
        "\n",
        "# prepare data loaders\n",
        "train_loader = torch.utils.data.DataLoader(train_data, batch_size=batch_size,\n",
        "    num_workers=num_workers)\n",
        "test_loader = torch.utils.data.DataLoader(test_data, batch_size=batch_size, \n",
        "    num_workers=num_workers)"
      ],
      "execution_count": null,
      "outputs": [
        {
          "output_type": "stream",
          "text": [
            "Downloading http://yann.lecun.com/exdb/mnist/train-images-idx3-ubyte.gz\n",
            "Failed to download (trying next):\n",
            "HTTP Error 503: Service Unavailable\n",
            "\n",
            "Downloading https://ossci-datasets.s3.amazonaws.com/mnist/train-images-idx3-ubyte.gz\n",
            "Downloading https://ossci-datasets.s3.amazonaws.com/mnist/train-images-idx3-ubyte.gz to data/MNIST/raw/train-images-idx3-ubyte.gz\n"
          ],
          "name": "stdout"
        },
        {
          "output_type": "display_data",
          "data": {
            "application/vnd.jupyter.widget-view+json": {
              "model_id": "03a4d8c9a7d24de29214eba137516927",
              "version_minor": 0,
              "version_major": 2
            },
            "text/plain": [
              "HBox(children=(FloatProgress(value=0.0, max=9912422.0), HTML(value='')))"
            ]
          },
          "metadata": {
            "tags": []
          }
        },
        {
          "output_type": "stream",
          "text": [
            "\n",
            "Extracting data/MNIST/raw/train-images-idx3-ubyte.gz to data/MNIST/raw\n",
            "\n",
            "Downloading http://yann.lecun.com/exdb/mnist/train-labels-idx1-ubyte.gz\n",
            "Downloading http://yann.lecun.com/exdb/mnist/train-labels-idx1-ubyte.gz to data/MNIST/raw/train-labels-idx1-ubyte.gz\n"
          ],
          "name": "stdout"
        },
        {
          "output_type": "display_data",
          "data": {
            "application/vnd.jupyter.widget-view+json": {
              "model_id": "05ca5b8cafe64e47b722e2af657227b4",
              "version_minor": 0,
              "version_major": 2
            },
            "text/plain": [
              "HBox(children=(FloatProgress(value=0.0, max=28881.0), HTML(value='')))"
            ]
          },
          "metadata": {
            "tags": []
          }
        },
        {
          "output_type": "stream",
          "text": [
            "\n",
            "Extracting data/MNIST/raw/train-labels-idx1-ubyte.gz to data/MNIST/raw\n",
            "\n",
            "Downloading http://yann.lecun.com/exdb/mnist/t10k-images-idx3-ubyte.gz\n",
            "Downloading http://yann.lecun.com/exdb/mnist/t10k-images-idx3-ubyte.gz to data/MNIST/raw/t10k-images-idx3-ubyte.gz\n",
            "Failed to download (trying next):\n",
            "HTTP Error 503: Service Unavailable\n",
            "\n",
            "Downloading https://ossci-datasets.s3.amazonaws.com/mnist/t10k-images-idx3-ubyte.gz\n",
            "Downloading https://ossci-datasets.s3.amazonaws.com/mnist/t10k-images-idx3-ubyte.gz to data/MNIST/raw/t10k-images-idx3-ubyte.gz\n"
          ],
          "name": "stdout"
        },
        {
          "output_type": "display_data",
          "data": {
            "application/vnd.jupyter.widget-view+json": {
              "model_id": "3210485469a84ab798d0f4daef038aa4",
              "version_minor": 0,
              "version_major": 2
            },
            "text/plain": [
              "HBox(children=(FloatProgress(value=0.0, max=1648877.0), HTML(value='')))"
            ]
          },
          "metadata": {
            "tags": []
          }
        },
        {
          "output_type": "stream",
          "text": [
            "\n",
            "Extracting data/MNIST/raw/t10k-images-idx3-ubyte.gz to data/MNIST/raw\n",
            "\n",
            "Downloading http://yann.lecun.com/exdb/mnist/t10k-labels-idx1-ubyte.gz\n",
            "Failed to download (trying next):\n",
            "HTTP Error 503: Service Unavailable\n",
            "\n",
            "Downloading https://ossci-datasets.s3.amazonaws.com/mnist/t10k-labels-idx1-ubyte.gz\n",
            "Downloading https://ossci-datasets.s3.amazonaws.com/mnist/t10k-labels-idx1-ubyte.gz to data/MNIST/raw/t10k-labels-idx1-ubyte.gz\n"
          ],
          "name": "stdout"
        },
        {
          "output_type": "display_data",
          "data": {
            "application/vnd.jupyter.widget-view+json": {
              "model_id": "1b1404eec1434014a9cb4a42a6e314ce",
              "version_minor": 0,
              "version_major": 2
            },
            "text/plain": [
              "HBox(children=(FloatProgress(value=0.0, max=4542.0), HTML(value='')))"
            ]
          },
          "metadata": {
            "tags": []
          }
        },
        {
          "output_type": "stream",
          "text": [
            "\n",
            "Extracting data/MNIST/raw/t10k-labels-idx1-ubyte.gz to data/MNIST/raw\n",
            "\n"
          ],
          "name": "stdout"
        },
        {
          "output_type": "stream",
          "text": [
            "/usr/local/lib/python3.7/dist-packages/torchvision/datasets/mnist.py:498: UserWarning: The given NumPy array is not writeable, and PyTorch does not support non-writeable tensors. This means you can write to the underlying (supposedly non-writeable) NumPy array using the tensor. You may want to copy the array to protect its data or make it writeable before converting it to a tensor. This type of warning will be suppressed for the rest of this program. (Triggered internally at  /pytorch/torch/csrc/utils/tensor_numpy.cpp:180.)\n",
            "  return torch.from_numpy(parsed.astype(m[2], copy=False)).view(*s)\n"
          ],
          "name": "stderr"
        }
      ]
    },
    {
      "cell_type": "markdown",
      "metadata": {
        "id": "eJxRND06B2fH"
      },
      "source": [
        "###Visualize\n",
        "This cell will print out the first batch of data contained in the training set. This is an important step first to check and see if the data is loaded correctly and to check for any initial observations about data patterns"
      ]
    },
    {
      "cell_type": "code",
      "metadata": {
        "colab": {
          "base_uri": "https://localhost:8080/",
          "height": 268
        },
        "id": "F_Tl_l5_dYpJ",
        "outputId": "60ef4550-8c47-4cdd-ec87-f769366f7860"
      },
      "source": [
        "import matplotlib.pyplot as plt\n",
        "%matplotlib inline\n",
        "    \n",
        "# obtain one batch of training images\n",
        "dataiter = iter(train_loader)\n",
        "images, labels = dataiter.next()\n",
        "images = images.numpy()\n",
        "\n",
        "# plot the images in the batch, along with the corresponding labels\n",
        "fig = plt.figure(figsize=(25, 4))\n",
        "for idx in np.arange(batch_size):\n",
        "    ax = fig.add_subplot(2, batch_size/2, idx+1, xticks=[], yticks=[])\n",
        "    ax.imshow(np.squeeze(images[idx]), cmap='gray')\n",
        "    # print out the correct label for each image\n",
        "    # .item() gets the value contained in a Tensor\n",
        "    ax.set_title(str(labels[idx].item()))"
      ],
      "execution_count": null,
      "outputs": [
        {
          "output_type": "display_data",
          "data": {
            "image/png": "[encoded data removed]",
            "text/plain": [
              "<Figure size 1800x288 with 20 Axes>"
            ]
          },
          "metadata": {
            "tags": []
          }
        }
      ]
    },
    {
      "cell_type": "markdown",
      "metadata": {
        "id": "Rp6yOS5KCr5E"
      },
      "source": [
        "Next step in visualization is to observe how your data will be represented to the Neural Network in this case images will be converted into a 28x28 greyscale image, whose pixels will be assigned a floating point value between 0 and 1 point value with 0 being black and 1.0 being white."
      ]
    },
    {
      "cell_type": "code",
      "metadata": {
        "colab": {
          "base_uri": "https://localhost:8080/",
          "height": 700
        },
        "id": "oAyqyhOXdbnk",
        "outputId": "beb2bde8-19dd-4a60-b45d-5f9b4c2ef451"
      },
      "source": [
        "img = np.squeeze(images[1])\n",
        "\n",
        "fig = plt.figure(figsize = (12,12)) \n",
        "ax = fig.add_subplot(111)\n",
        "ax.imshow(img, cmap='gray')\n",
        "width, height = img.shape\n",
        "thresh = img.max()/2.5\n",
        "for x in range(width):\n",
        "    for y in range(height):\n",
        "        val = round(img[x][y],2) if img[x][y] !=0 else 0\n",
        "        ax.annotate(str(val), xy=(y,x),\n",
        "                    horizontalalignment='center',\n",
        "                    verticalalignment='center',\n",
        "                    color='white' if img[x][y]<thresh else 'black')"
      ],
      "execution_count": null,
      "outputs": [
        {
          "output_type": "display_data",
          "data": {
            "image/png": "[encoded data removed]",
            "text/plain": [
              "<Figure size 864x864 with 1 Axes>"
            ]
          },
          "metadata": {
            "tags": [],
            "needs_background": "light"
          }
        }
      ]
    },
    {
      "cell_type": "markdown",
      "metadata": {
        "id": "wIV4P5nADR0J"
      },
      "source": [
        "##Defining the Neural Network\n"
      ]
    },
    {
      "cell_type": "markdown",
      "metadata": {
        "id": "2G858ll9lv3I"
      },
      "source": [
        "To define your Neural Network you will need to subclass the ```nn.Module``` and initialize the network layers in  ```__init__``` and all input data should be implemented in the ```forward``` function."
      ]
    },
    {
      "cell_type": "markdown",
      "metadata": {
        "id": "2Uyc0-SOMgez"
      },
      "source": [
        "###Layer Selection\n",
        "There are several types of layers that can be used but for this case a simple linear transformation is all that is required to implement hidden and output layers. The parameters required for declaring a linear layers are as follows:\n",
        "```nn.Linear(in_feats, out_feats)```. Where ```in_feats``` is the number of inputs into each neuron, and ```out_feats``` is the number of neurons per layer. Linear layers aim to train the following equation:\n",
        "\n",
        "$$\n",
        "\\mathbf{y} = {x}{W}^{T}+{b}\n",
        "$$\n",
        "\n",
        "To implement these layers we declare them in the __init__ function of our NeuralNet class. This is mearly a declaration so W and b will be some completely random value until they are trained. "
      ]
    },
    {
      "cell_type": "markdown",
      "metadata": {
        "id": "cTQuDZc0XLo3"
      },
      "source": [
        "###Forward Pass\n",
        "Another function that needs to be implemented in our NeuralNet class is the forward pass function, simply put, this function needs to handle passing data between the different layers as well as handling all activation functions that you have chosen to use on your data."
      ]
    },
    {
      "cell_type": "markdown",
      "metadata": {
        "id": "e6pByWJBX6gp"
      },
      "source": [
        "###Model Code"
      ]
    },
    {
      "cell_type": "code",
      "metadata": {
        "colab": {
          "base_uri": "https://localhost:8080/"
        },
        "id": "u-3577DwdelV",
        "outputId": "1b6d8ef3-cac4-4a49-db64-b16c29e3263c"
      },
      "source": [
        "import torch.nn as nn\n",
        "import torch.nn.functional as F\n",
        "from torchsummary import summary\n",
        "\n",
        "## Define the NN architecture\n",
        "class NeuralNet(nn.Module):\n",
        "    def __init__(self):\n",
        "        super(NeuralNet, self).__init__()\n",
        "        # linear layer 28*28 input into 16 nodes\n",
        "        self.fc1 = nn.Linear(28 * 28, 16)\n",
        "\n",
        "        # linear layer (n_hidden -> 10)\n",
        "        self.fc2 = nn.Linear(16, 10)\n",
        "\n",
        "    def forward(self, x):\n",
        "        # flatten image input\n",
        "        x = x.view(-1, 28 * 28)\n",
        "        # add hidden layer, with relu activation function\n",
        "        x = F.relu(self.fc1(x))\n",
        "\n",
        "        x = self.fc2(x)\n",
        "\n",
        "        return x\n",
        "\n",
        "# initialize the NN\n",
        "model = NeuralNet()\n",
        "summary(model, input_size=(1, 28, 28))"
      ],
      "execution_count": null,
      "outputs": [
        {
          "output_type": "stream",
          "text": [
            "----------------------------------------------------------------\n",
            "        Layer (type)               Output Shape         Param #\n",
            "================================================================\n",
            "            Linear-1                   [-1, 16]          12,560\n",
            "            Linear-2                   [-1, 10]             170\n",
            "================================================================\n",
            "Total params: 12,730\n",
            "Trainable params: 12,730\n",
            "Non-trainable params: 0\n",
            "----------------------------------------------------------------\n",
            "Input size (MB): 0.00\n",
            "Forward/backward pass size (MB): 0.00\n",
            "Params size (MB): 0.05\n",
            "Estimated Total Size (MB): 0.05\n",
            "----------------------------------------------------------------\n"
          ],
          "name": "stdout"
        }
      ]
    },
    {
      "cell_type": "markdown",
      "metadata": {
        "id": "QrVR-iZ8k8go"
      },
      "source": [
        "##Training"
      ]
    },
    {
      "cell_type": "markdown",
      "metadata": {
        "id": "p0dCpoODGrVC"
      },
      "source": [
        "The next step in the process is now training the neural network. This process involves many forward and backward passes through the network called epochs. During an epoch the training data image will be passed into the neural network where an output will be produced in the form of a probability matrix. The neural network will use the error that has occured from the guess and attempt to 'learn', this process is the backwards pass.\n",
        "\n",
        "During the forward pass, data is simply fed through the network and an output is received where an error, or loss, will be calculated based on the outputs of the training data. This is where backpropagation begins.\n",
        "\n",
        "Backpropagation aims to adjust the weights of the connections in the network to minimize the difference between the predicted output vector and the desired output vector. This difference is represented by the 'Loss' of the neural network. Your overall goal is to choose is to decrease your loss as much as possible there are several algorithms such as [MSE](https://pytorch.org/docs/stable/generated/torch.nn.L1Loss.html#torch.nn.L1Loss) and [MAE](https://pytorch.org/docs/stable/generated/torch.nn.MSELoss.html#torch.nn.MSELoss) used to minimize loss. For this case you will be using the [CrossEntropy](https://pytorch.org/docs/stable/generated/torch.nn.CrossEntropyLoss.html#torch.nn.CrossEntropyLoss) Loss function, more information as per why can be found [here](https://machinelearningmastery.com/how-to-choose-loss-functions-when-training-deep-learning-neural-networks/), but the summary is since we are aiming to optimize a classification predictive model we want to heavily penalize incorrect guesses"
      ]
    },
    {
      "cell_type": "markdown",
      "metadata": {
        "id": "h-0G-OWviAF7"
      },
      "source": [
        "Here criterion is used to specify a loss function provided by pytorch for convience [here](https://pytorch.org/docs/stable/nn.html#loss-functions).\n",
        "\n",
        "Optimizer is chosen from [here](https://pytorch.org/docs/stable/optim.html)"
      ]
    },
    {
      "cell_type": "code",
      "metadata": {
        "id": "EGvTTXP2dhtT"
      },
      "source": [
        "## Specify loss and optimization functions\n",
        "\n",
        "# specify loss function\n",
        "criterion = nn.CrossEntropyLoss()\n",
        "\n",
        "# specify optimizer\n",
        "optimizer = torch.optim.SGD(model.parameters(), lr=0.01)"
      ],
      "execution_count": null,
      "outputs": []
    },
    {
      "cell_type": "code",
      "metadata": {
        "colab": {
          "base_uri": "https://localhost:8080/"
        },
        "id": "xYplkN4GdlRL",
        "outputId": "4f3c1a0f-6951-4f2e-d6be-8f2fea343a18"
      },
      "source": [
        "# number of epochs to train the model\n",
        "n_epochs = 5  # suggest training between 20-50 epochs\n",
        "\n",
        "# Set model to the training mode\n",
        "model.train()\n",
        "\n",
        "for epoch in range(n_epochs):\n",
        "    # monitor training loss\n",
        "    train_loss = 0.0\n",
        "    \n",
        "    ###################\n",
        "    # train the model #\n",
        "    ###################\n",
        "    for data, target in train_loader:\n",
        "        # clear the gradients of all optimized variables\n",
        "        optimizer.zero_grad()\n",
        "        # forward pass: compute predicted outputs by passing inputs to the model\n",
        "        output = model(data)\n",
        "\n",
        "        # calculate the loss\n",
        "        loss = criterion(output, target)\n",
        "        # backward pass: compute gradient of the loss with respect to model parameters\n",
        "        loss.backward()\n",
        "        # perform a single optimization step (parameter update)\n",
        "        optimizer.step()\n",
        "        # update running training loss\n",
        "        train_loss += loss.item()*data.size(0)\n",
        "        \n",
        "    # print training statistics \n",
        "    # calculate average loss over an epoch\n",
        "    train_loss = train_loss/len(train_loader.dataset)\n",
        "\n",
        "    print('Epoch: {} \\tTraining Loss: {:.6f}'.format(\n",
        "        epoch+1, \n",
        "        train_loss\n",
        "        ))"
      ],
      "execution_count": null,
      "outputs": [
        {
          "output_type": "stream",
          "text": [
            "Epoch: 1 \tTraining Loss: 0.758434\n",
            "Epoch: 2 \tTraining Loss: 0.349796\n",
            "Epoch: 3 \tTraining Loss: 0.307162\n",
            "Epoch: 4 \tTraining Loss: 0.283784\n",
            "Epoch: 5 \tTraining Loss: 0.267246\n"
          ],
          "name": "stdout"
        }
      ]
    },
    {
      "cell_type": "markdown",
      "metadata": {
        "id": "8-NqaVsYlGy7"
      },
      "source": [
        "##Evalution"
      ]
    },
    {
      "cell_type": "markdown",
      "metadata": {
        "id": "y5r2FcxL5m_E"
      },
      "source": [
        "The purpose of this section is to evaluate your model based on the data provided\n",
        "in the testing set. Here your model will be switched to evaluation mode where \n",
        "forward passes will be performed and a predicted value will be returned."
      ]
    },
    {
      "cell_type": "code",
      "metadata": {
        "colab": {
          "base_uri": "https://localhost:8080/"
        },
        "id": "W6JdOvBidqC7",
        "outputId": "09bdaecd-d55d-484d-8156-c107194ad6bf"
      },
      "source": [
        "# initialize lists to monitor test loss and accuracy\n",
        "test_loss = 0.0\n",
        "class_correct = list(0. for i in range(10))\n",
        "class_total = list(0. for i in range(10))\n",
        "\n",
        "# Set model to evaluation mode\n",
        "model.eval()\n",
        "\n",
        "for data, target in test_loader:\n",
        "    # forward pass: compute predicted outputs by passing inputs to the model\n",
        "    output = model(data)\n",
        "    # calculate the loss\n",
        "    loss = criterion(output, target)\n",
        "    # update test loss \n",
        "    test_loss += loss.item()*data.size(0)\n",
        "    # convert output probabilities to predicted class\n",
        "    _, pred = torch.max(output, 1)\n",
        "    # compare predictions to true label\n",
        "    correct = np.squeeze(pred.eq(target.data.view_as(pred)))\n",
        "    # calculate test accuracy for each object class\n",
        "    for i in range(batch_size):\n",
        "        try:\n",
        "          label = target.data[i]\n",
        "          class_correct[label] += correct[i].item()\n",
        "          class_total[label] += 1\n",
        "        except IndexError:\n",
        "          break\n",
        "\n",
        "# calculate and print avg test loss\n",
        "test_loss = test_loss/len(test_loader.dataset)\n",
        "print('Test Loss: {:.6f}\\n'.format(test_loss))\n",
        "\n",
        "for i in range(10):\n",
        "    if class_total[i] > 0:\n",
        "        print('Test Accuracy of %5s: %2d%% (%2d/%2d)' % (\n",
        "            str(i), 100 * class_correct[i] / class_total[i],\n",
        "            np.sum(class_correct[i]), np.sum(class_total[i])))\n",
        "    else:\n",
        "        print('Test Accuracy of %5s: N/A (no training examples)' % (classes[i]))\n",
        "\n",
        "print('\\nTest Accuracy (Overall): %2d%% (%2d/%2d)' % (\n",
        "    100. * np.sum(class_correct) / np.sum(class_total),\n",
        "    np.sum(class_correct), np.sum(class_total)))"
      ],
      "execution_count": null,
      "outputs": [
        {
          "output_type": "stream",
          "text": [
            "Test Loss: 0.258970\n",
            "\n",
            "Test Accuracy of     0: 98% (965/980)\n",
            "Test Accuracy of     1: 98% (1117/1135)\n",
            "Test Accuracy of     2: 88% (909/1032)\n",
            "Test Accuracy of     3: 91% (925/1010)\n",
            "Test Accuracy of     4: 91% (900/982)\n",
            "Test Accuracy of     5: 90% (806/892)\n",
            "Test Accuracy of     6: 93% (899/958)\n",
            "Test Accuracy of     7: 92% (946/1028)\n",
            "Test Accuracy of     8: 87% (854/974)\n",
            "Test Accuracy of     9: 93% (939/1009)\n",
            "\n",
            "Test Accuracy (Overall): 92% (9260/10000)\n"
          ],
          "name": "stdout"
        }
      ]
    },
    {
      "cell_type": "markdown",
      "metadata": {
        "id": "VjD_w3VW18qH"
      },
      "source": [
        "Above is the overall accuracy of your Network if your accuracy is poor here you will have a bad time when testing it on real world examples. So it highly suggested that you play with the training time by changing the number of epochs that are allowed to happen. As well as playing with the batch size of the training inputs"
      ]
    },
    {
      "cell_type": "markdown",
      "metadata": {
        "id": "agRChMtJlPuD"
      },
      "source": [
        "###Visual Evaluation"
      ]
    },
    {
      "cell_type": "code",
      "metadata": {
        "colab": {
          "base_uri": "https://localhost:8080/",
          "height": 268
        },
        "id": "y5eYtGiTdsAp",
        "outputId": "d4103665-c1e7-48bc-8d24-e5db3d23a6e5"
      },
      "source": [
        "# obtain one batch of test images\n",
        "dataiter = iter(test_loader)\n",
        "images, labels = dataiter.next()\n",
        "\n",
        "# get sample outputs\n",
        "output = model(images)\n",
        "# convert output probabilities to predicted class\n",
        "_, preds = torch.max(output, 1)\n",
        "# prep images for display\n",
        "images = images.numpy()\n",
        "\n",
        "# plot the images in the batch, along with predicted and true labels\n",
        "fig = plt.figure(figsize=(25, 4))\n",
        "for idx in np.arange(batch_size):\n",
        "    ax = fig.add_subplot(2, batch_size/2, idx+1, xticks=[], yticks=[])\n",
        "    ax.imshow(np.squeeze(images[idx]), cmap='gray')\n",
        "    ax.set_title(\"{} ({})\".format(str(preds[idx].item()), str(labels[idx].item())),\n",
        "                 color=(\"green\" if preds[idx]==labels[idx] else \"red\"))"
      ],
      "execution_count": null,
      "outputs": [
        {
          "output_type": "display_data",
          "data": {
            "image/png": "[encoded data removed]",
            "text/plain": [
              "<Figure size 1800x288 with 20 Axes>"
            ]
          },
          "metadata": {
            "tags": []
          }
        }
      ]
    },
    {
      "cell_type": "markdown",
      "metadata": {
        "id": "K0eYXmajVMrS"
      },
      "source": [
        "# Guide of what you need to do\n",
        "In this tutorial, we have done pretty much all of the coding parts for MLP training part. The followings are the things that you need to do by yourself for this phase project.\n",
        "\n",
        "1. You will need to adjust the size and training times of the Neural Network in order to match the designated neuron and accuracy constraints of the project\n",
        "2. After training your neural network model, you will need to figure out how to store it so that it can be accessed later.\n",
        "3. You need to extract the weights and biases from your trained model, these items will be saved in a file and then loaded into memory in your hardware design. \n",
        "\n"
      ]
    },
    {
      "cell_type": "markdown",
      "metadata": {
        "id": "uCNo16e63E94"
      },
      "source": [
        "# Expected Outcomes\n",
        "\n",
        "1.   Construction of a software Classification model that can accurately identify data from the MNIST dataset\n",
        "2.   Test your model over more data and provide the comparison between classified results and its label \n",
        "3. Just keep in mind: the classificatin model will be used for the hardware implementation.\n"
      ]
    },
    {
      "cell_type": "markdown",
      "metadata": {
        "id": "R2oSCmFjrpUA"
      },
      "source": [
        "# Extra Resources\n",
        "1.   Simple explaination on Neural Networks: https://www.youtube.com/watch?v=aircAruvnKk\n",
        "2.   Introduction to Deep Learning with Python: https://pythonprogramming.net/introduction-deep-learning-neural-network-pytorch/\n",
        "\n"
      ]
    }
  ]
}